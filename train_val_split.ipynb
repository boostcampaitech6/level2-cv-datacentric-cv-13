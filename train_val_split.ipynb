{
 "cells": [
  {
   "cell_type": "code",
   "execution_count": 12,
   "metadata": {},
   "outputs": [],
   "source": [
    "import random\n",
    "import shutil\n",
    "import os"
   ]
  },
  {
   "cell_type": "code",
   "execution_count": 13,
   "metadata": {},
   "outputs": [],
   "source": [
    "def split(data_path, img_list, val_count, train_path, val_path):\n",
    "    if not os.path.exists(train_path):\n",
    "        os.mkdir(train_path)\n",
    "    \n",
    "    if not os.path.exists(val_path):\n",
    "        os.mkdir(val_path)\n",
    "    val_names = []\n",
    "\n",
    "    for i in random.sample(img_list, val_count):\n",
    "        val_names.append(i)\n",
    "    \n",
    "    train_names = [x for x in img_list if x not in val_names]\n",
    "\n",
    "    for k in train_names:\n",
    "        shutil.copy(os.path.join(data_path, k), train_path)\n",
    "    \n",
    "    for k in val_names:\n",
    "        shutil.copy(os.path.join(data_path, k), val_path)\n",
    "    \n",
    "    print(f\"Length of train: {len(train_names)}, Length of val: {len(val_names)}\")"
   ]
  },
  {
   "cell_type": "code",
   "execution_count": 14,
   "metadata": {},
   "outputs": [
    {
     "name": "stdout",
     "output_type": "stream",
     "text": [
      "Length of train: 80, Length of val: 20\n"
     ]
    }
   ],
   "source": [
    "random.seed(2024)\n",
    "data_path = './data/medical/img/train'\n",
    "train_path = './data/medical/img/train_split'\n",
    "val_path = './data/medical/img/val_split'\n",
    "\n",
    "img_list = os.listdir(data_path)\n",
    "\n",
    "split(data_path, img_list, 20, train_path, val_path)"
   ]
  },
  {
   "cell_type": "code",
   "execution_count": null,
   "metadata": {},
   "outputs": [],
   "source": []
  }
 ],
 "metadata": {
  "kernelspec": {
   "display_name": "base",
   "language": "python",
   "name": "python3"
  },
  "language_info": {
   "codemirror_mode": {
    "name": "ipython",
    "version": 3
   },
   "file_extension": ".py",
   "mimetype": "text/x-python",
   "name": "python",
   "nbconvert_exporter": "python",
   "pygments_lexer": "ipython3",
   "version": "3.8.5"
  }
 },
 "nbformat": 4,
 "nbformat_minor": 2
}
