{
 "cells": [
  {
   "cell_type": "code",
   "execution_count": 24,
   "metadata": {},
   "outputs": [],
   "source": [
    "import pandas as pd\n",
    "import numpy as np\n",
    "from tqdm import tqdm\n",
    "import os\n",
    "import json\n",
    "from ensemble_boxes_wbf import *\n",
    "import cv2"
   ]
  },
  {
   "cell_type": "code",
   "execution_count": 25,
   "metadata": {},
   "outputs": [
    {
     "name": "stdout",
     "output_type": "stream",
     "text": [
      "['drp.en_ko.in_house.deepnatural_002804.jpg', 'drp.en_ko.in_house.deepnatural_003610.jpg', 'drp.en_ko.in_house.deepnatural_002535.jpg', 'drp.en_ko.in_house.deepnatural_002576.jpg', 'drp.en_ko.in_house.deepnatural_003511.jpg']\n"
     ]
    }
   ],
   "source": [
    "test_fnames = os.listdir('data/medical/img/test')\n",
    "test_path = 'data/medical/img/test'\n",
    "print(test_fnames[:5])"
   ]
  },
  {
   "cell_type": "code",
   "execution_count": 26,
   "metadata": {},
   "outputs": [],
   "source": [
    "#========== submission.csv 파일 경로 지정 ===========#\n",
    "submission_files = ['predictions/T6132_develop_mean_std_output.csv',\n",
    "                    'predictions/T6132_GaussNoise_output.csv']\n",
    "#===================================================#\n",
    "\n",
    "results = {}\n",
    "iou_thr = 0.5            # TODO : iou threshold 설정\n",
    "skip_box_thr = 0.0001    # TODO : skip iou threshold 설정 0.0001"
   ]
  },
  {
   "cell_type": "code",
   "execution_count": 27,
   "metadata": {},
   "outputs": [
    {
     "name": "stderr",
     "output_type": "stream",
     "text": [
      "  1%|          | 1/100 [00:00<01:15,  1.32it/s]/data/ephemeral/home/level2-cv-datacentric-cv-13/ensemble_boxes_wbf.py:38: UserWarning: X1 < 0 in box. Set it to 0.\n",
      "  warnings.warn('X1 < 0 in box. Set it to 0.')\n",
      " 18%|█▊        | 18/100 [00:11<00:54,  1.50it/s]/data/ephemeral/home/level2-cv-datacentric-cv-13/ensemble_boxes_wbf.py:59: UserWarning: Y2 > 1 in box. Set it to 1. Check that you normalize boxes in [0, 1] range.\n",
      "  warnings.warn('Y2 > 1 in box. Set it to 1. Check that you normalize boxes in [0, 1] range.')\n",
      " 31%|███       | 31/100 [00:18<00:38,  1.78it/s]/data/ephemeral/home/level2-cv-datacentric-cv-13/ensemble_boxes_wbf.py:50: UserWarning: Y1 < 0 in box. Set it to 0.\n",
      "  warnings.warn('Y1 < 0 in box. Set it to 0.')\n",
      " 76%|███████▌  | 76/100 [00:47<00:16,  1.41it/s]/data/ephemeral/home/level2-cv-datacentric-cv-13/ensemble_boxes_wbf.py:47: UserWarning: X2 > 1 in box. Set it to 1. Check that you normalize boxes in [0, 1] range.\n",
      "  warnings.warn('X2 > 1 in box. Set it to 1. Check that you normalize boxes in [0, 1] range.')\n",
      "100%|██████████| 100/100 [01:03<00:00,  1.58it/s]\n"
     ]
    }
   ],
   "source": [
    "for fname in tqdm(test_fnames):\n",
    "    boxes_list = []\n",
    "    scores_list = []\n",
    "    labels_list = []\n",
    "\n",
    "    img = cv2.imread(os.path.join(test_path, fname))\n",
    "    height, width, c = img.shape\n",
    "\n",
    "    for submission in submission_files:\n",
    "        with open(submission, 'r') as f:\n",
    "            data = json.load(f)\n",
    "            images = data['images']\n",
    "        words = images[fname]\n",
    "        box_list = []\n",
    "\n",
    "\n",
    "        for word_id in words[\"words\"].keys():\n",
    "            points = words['words'][word_id]['points']\n",
    "            # left_top, right_top, right_bottom, left_bottom\n",
    "            p1, p2, p3, p4 = points    \n",
    "            xmin = min(p1[0], p2[0], p3[0], p4[0])\n",
    "            ymin = min(p1[1], p2[1], p3[1], p4[1])\n",
    "            xmax = max(p1[0], p2[0], p3[0], p4[0])\n",
    "            ymax = max(p1[1], p2[1], p3[1], p4[1])\n",
    "            # 좌상단 우하단\n",
    "            box = [xmin/width, ymin/height, xmax/width, ymax/height]\n",
    "            box_list.append(box)\n",
    "        boxes_list.append(box_list)\n",
    "        scores_list.append([1.0]*len(words[\"words\"].items()))\n",
    "        labels_list.append([1]*len(words[\"words\"].items()))\n",
    "\n",
    "    if len(boxes_list):\n",
    "        # boxes, scores, labels = nms(boxes_list, scores_list, labels_list,iou_thr=iou_thr)\n",
    "        # boxes, scores, labels = soft_nms(box_list, scores_list, labels_list, iou_thr=iou_thr)\n",
    "        # boxes, scores, labels = non_maximum_weighted(boxes_list, scores_list, labels_list,iou_thr=iou_thr)\n",
    "        boxes, scores, labels = weighted_boxes_fusion(boxes_list, scores_list, labels_list, iou_thr=iou_thr, skip_box_thr=skip_box_thr)\n",
    "        \n",
    "        prediction_words = []\n",
    "        points_list = []\n",
    "        for idx, (box, score, label) in enumerate(zip(boxes, scores, labels)):\n",
    "            xmin = box[0]*width\n",
    "            ymin = box[1]*height\n",
    "            xmax = box[2]*width\n",
    "            ymax = box[3]*height\n",
    "            \n",
    "            p1 = [xmin, ymin]\n",
    "            p2 = [xmin + width, ymin]\n",
    "            p3 = [xmin + width, ymin + height]\n",
    "            p4 = [xmin, ymin + height]\n",
    "            points = [p1, p2, p3, p4]\n",
    "            points_list.append(points)\n",
    "        prediction_words = {idx: dict(points=point) for idx, point in enumerate(points_list)}\n",
    "    results[fname] = dict(words=prediction_words)\n",
    "results = {'images' :results}\n",
    "\n",
    "output_path = 'predictions/ensemble'\n",
    "if not os.path.exists(output_path):\n",
    "    os.makedirs(output_path)\n",
    "    \n",
    "output_fname = 'output.csv'\n",
    "with open(os.path.join(output_path, output_fname), 'w') as f:\n",
    "    json.dump(results, f, indent=4)"
   ]
  },
  {
   "cell_type": "code",
   "execution_count": null,
   "metadata": {},
   "outputs": [],
   "source": []
  }
 ],
 "metadata": {
  "kernelspec": {
   "display_name": "base",
   "language": "python",
   "name": "python3"
  },
  "language_info": {
   "codemirror_mode": {
    "name": "ipython",
    "version": 3
   },
   "file_extension": ".py",
   "mimetype": "text/x-python",
   "name": "python",
   "nbconvert_exporter": "python",
   "pygments_lexer": "ipython3",
   "version": "3.10.13"
  }
 },
 "nbformat": 4,
 "nbformat_minor": 2
}
